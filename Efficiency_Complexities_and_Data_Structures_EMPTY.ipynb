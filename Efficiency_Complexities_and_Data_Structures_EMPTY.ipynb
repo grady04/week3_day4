{
 "cells": [
  {
   "cell_type": "markdown",
   "metadata": {},
   "source": [
    "# Time/Space Complexity - Intro to Data Structures (User Defined)\n",
    "\n",
    "### Topics to discuss today:\n",
    "\n",
    "<ul>\n",
    "    <li>Time and Space Complexity - What is it/How do we measure it</li>\n",
    "    <li>Asymptotic Analysis</li>\n",
    "    <li><strong>Data Structures</strong></li>\n",
    "    <li>Some of the popular sorting algorithms</li>\n",
    "</ul>\n",
    "\n",
    "### Data Structures to discuss:\n",
    "- Arrays\n",
    "- Stacks\n",
    "- Queues\n",
    "- Linked Lists\n",
    "    - Singly Linked Lists\n",
    "    - Traversing A Linked List\n",
    "    - Finding a node in a linked list\n",
    "    - Adding to a linked list\n",
    "- Binary Search Trees\n",
    "    - Construction\n",
    "    - Traversal\n"
   ]
  },
  {
   "cell_type": "markdown",
   "metadata": {},
   "source": [
    "## Time and Space Complexity\n",
    "\n",
    "#### What is it?\n",
    "\n",
    "Time and space complexity is the measure of how much time a given action(function) will take to solve a problem. In the same fashion, we determine how much a given data structure will need in terms of memory allocation. A problem can have multiple solutions and finding the optimal solution for the problem needs to be analyzed in time and space.\n",
    "\n",
    "#### How do we measure Time and Space Complexity?\n",
    "\n",
    "In order to measure time and space complexity we use Asymptotic analysis. The reason for this is because we need a way to measure different algorithms (functions) based on the size of their inputs in a mathmatical way. For example, we could have a function that is computed as f(n) and another that is g(n^2). All things around the function staying constant, the only thing that changes is the size of the input. Below is the chart that shows the different Asymptotic analysis formats. "
   ]
  },
  {
   "cell_type": "markdown",
   "metadata": {},
   "source": [
    "<table style=\"text-align:center;\" class=\"table table-bordered\">\n",
    "<tbody><tr>\n",
    "<td>constant</td>\n",
    "<td>−</td>\n",
    "<td>Ο(1)</td>\n",
    "</tr>\n",
    "<tr>\n",
    "<td>logarithmic</td>\n",
    "<td>−</td>\n",
    "<td>Ο(log n)</td>\n",
    "</tr>\n",
    "<tr>\n",
    "<td>linear</td>\n",
    "<td>−</td>\n",
    "<td>Ο(n)</td>\n",
    "</tr>\n",
    "<tr>\n",
    "<td>Linear Logarithmic</td>\n",
    "<td>−</td>\n",
    "<td>Ο(n log n)</td>\n",
    "</tr>\n",
    "<tr>\n",
    "<td>quadratic</td>\n",
    "<td>−</td>\n",
    "<td>Ο(n<sup>2</sup>)</td>\n",
    "</tr>\n",
    "<tr>\n",
    "<td>cubic</td>\n",
    "<td>−</td>\n",
    "<td>Ο(n<sup>3</sup>)</td>\n",
    "</tr>\n",
    "<tr>\n",
    "<td>polynomial</td>\n",
    "<td>−</td>\n",
    "<td>n<sup>Ο(1)</sup></td>\n",
    "</tr>\n",
    "<tr>\n",
    "<td>exponential</td>\n",
    "<td>−</td>\n",
    "<td>2<sup>Ο(n)</sup></td>\n",
    "</tr>\n",
    "</tbody></table>"
   ]
  },
  {
   "cell_type": "markdown",
   "metadata": {},
   "source": [
    "## Set <br>\n",
    "<p>A Set is an unordered collection data type that is iterable (loop), mutable, and has no duplicate elements.<br>Major advantage is that it is highly optimized in checking if something is in the set, as opposed to checking if something is in a list.</p>"
   ]
  },
  {
   "cell_type": "markdown",
   "metadata": {},
   "source": [
    "##### Declaring"
   ]
  },
  {
   "cell_type": "code",
   "execution_count": 5,
   "metadata": {},
   "outputs": [
    {
     "name": "stdout",
     "output_type": "stream",
     "text": [
      "<class 'set'>\n",
      "{1, 2, 3, 4}\n",
      "{1, 2, 3, 4}\n",
      "<class 'set'>\n",
      "<class 'set'>\n",
      "{'o', 'e', 'i', 'u', 'a'}\n"
     ]
    }
   ],
   "source": [
    "# set() or {}\n",
    "# messy room but knows where everything is\n",
    "# doesn't have duplicates or indexes\n",
    "\n",
    "s1 = {1, 2, 3, 4}\n",
    "print(type(s1))\n",
    "print(s1)\n",
    "\n",
    "s2 = set([1, 2, 3, 4])\n",
    "print(s2)\n",
    "print(type(s2))\n",
    "\n",
    "s3 = set()\n",
    "print(type(s3))\n",
    "\n",
    "vowels = ['a', 'e', 'i', 'o', 'u']\n",
    "set_vowels = set(vowels)\n",
    "print(set_vowels)"
   ]
  },
  {
   "cell_type": "markdown",
   "metadata": {},
   "source": [
    "##### .add()"
   ]
  },
  {
   "cell_type": "code",
   "execution_count": 7,
   "metadata": {},
   "outputs": [
    {
     "name": "stdout",
     "output_type": "stream",
     "text": [
      "{1, 2, 3, 4, 8}\n",
      "{1, 2, 3, 4, 8}\n"
     ]
    }
   ],
   "source": [
    "# set.add()\n",
    "\n",
    "s1 = {1, 2, 3, 4}\n",
    "s1.add(8)\n",
    "print(s1)\n",
    "s1.add(2) #no duplicates\n",
    "print(s1)\n"
   ]
  },
  {
   "cell_type": "markdown",
   "metadata": {},
   "source": [
    "##### .remove()"
   ]
  },
  {
   "cell_type": "code",
   "execution_count": 9,
   "metadata": {},
   "outputs": [
    {
     "name": "stdout",
     "output_type": "stream",
     "text": [
      "{1, 2, 4}\n"
     ]
    },
    {
     "ename": "KeyError",
     "evalue": "3",
     "output_type": "error",
     "traceback": [
      "\u001b[0;31m---------------------------------------------------------------------------\u001b[0m",
      "\u001b[0;31mKeyError\u001b[0m                                  Traceback (most recent call last)",
      "\u001b[0;32m/var/folders/vk/878zdnyn31v2my4v6pgj67qc0000gn/T/ipykernel_13254/3184508453.py\u001b[0m in \u001b[0;36m<module>\u001b[0;34m\u001b[0m\n\u001b[1;32m      7\u001b[0m \u001b[0mprint\u001b[0m\u001b[0;34m(\u001b[0m\u001b[0ms1\u001b[0m\u001b[0;34m)\u001b[0m\u001b[0;34m\u001b[0m\u001b[0;34m\u001b[0m\u001b[0m\n\u001b[1;32m      8\u001b[0m \u001b[0;34m\u001b[0m\u001b[0m\n\u001b[0;32m----> 9\u001b[0;31m \u001b[0ms1\u001b[0m\u001b[0;34m.\u001b[0m\u001b[0mremove\u001b[0m\u001b[0;34m(\u001b[0m\u001b[0;36m3\u001b[0m\u001b[0;34m)\u001b[0m\u001b[0;34m\u001b[0m\u001b[0;34m\u001b[0m\u001b[0m\n\u001b[0m\u001b[1;32m     10\u001b[0m \u001b[0mprint\u001b[0m\u001b[0;34m(\u001b[0m\u001b[0ms1\u001b[0m\u001b[0;34m)\u001b[0m\u001b[0;34m\u001b[0m\u001b[0;34m\u001b[0m\u001b[0m\n",
      "\u001b[0;31mKeyError\u001b[0m: 3"
     ]
    }
   ],
   "source": [
    "# removes by value, no order\n",
    "# set.remove()\n",
    "\n",
    "s1 = {1, 2, 3, 4}\n",
    "\n",
    "s1.remove(3)\n",
    "print(s1)\n",
    "\n",
    "s1.remove(3)#can't remove something that isn't there\n",
    "print(s1)\n"
   ]
  },
  {
   "cell_type": "markdown",
   "metadata": {},
   "source": [
    "##### .union() "
   ]
  },
  {
   "cell_type": "code",
   "execution_count": 10,
   "metadata": {},
   "outputs": [
    {
     "name": "stdout",
     "output_type": "stream",
     "text": [
      "{1, 2, 3, 4, 5, 6, 7}\n",
      "{1, 2, 3, 4, 5, 6, 7}\n",
      "{1, 2, 3, 4, 5, 6, 7}\n"
     ]
    }
   ],
   "source": [
    "# Returns a union of two sets, can also use '|' or set.union(set)\n",
    "# joins all numbers, gets rid of duplicates\n",
    "# out of place algorithm\n",
    "\n",
    "s1 = {1, 2, 3, 4}\n",
    "s2 = {4, 5, 6, 7}\n",
    "print(s1|s2)\n",
    "print(s1.union(s2))\n",
    "print(s2.union(s1))"
   ]
  },
  {
   "cell_type": "markdown",
   "metadata": {},
   "source": [
    "##### .intersection()"
   ]
  },
  {
   "cell_type": "code",
   "execution_count": 11,
   "metadata": {},
   "outputs": [
    {
     "name": "stdout",
     "output_type": "stream",
     "text": [
      "{4}\n",
      "{4}\n"
     ]
    }
   ],
   "source": [
    "# Returns an intersection of two sets, can also use '&'\n",
    "# only takes similar elements from both sets\n",
    "# venn diagram, takes the middle\n",
    "\n",
    "print(s1&s2)\n",
    "print(s1.intersection(s2))\n",
    "\n"
   ]
  },
  {
   "cell_type": "markdown",
   "metadata": {},
   "source": [
    "##### .difference()"
   ]
  },
  {
   "cell_type": "code",
   "execution_count": 12,
   "metadata": {},
   "outputs": [
    {
     "name": "stdout",
     "output_type": "stream",
     "text": [
      "{1, 2, 3}\n",
      "{5, 6, 7}\n"
     ]
    }
   ],
   "source": [
    "# Returns a set containing all the elements of invoking set that are not in the second set, can also use '-'\n",
    "# only takes values from the first set that are not in the second set\n",
    "# order matters\n",
    "# venn diagram, takes the outside\n",
    "\n",
    "print(s1-s2)\n",
    "print(s2.difference(s1))\n",
    "\n"
   ]
  },
  {
   "cell_type": "markdown",
   "metadata": {},
   "source": [
    "##### .clear()"
   ]
  },
  {
   "cell_type": "code",
   "execution_count": 13,
   "metadata": {},
   "outputs": [
    {
     "name": "stdout",
     "output_type": "stream",
     "text": [
      "{1, 2, 3, 4}\n",
      "set()\n"
     ]
    }
   ],
   "source": [
    "# Empties the whole set\n",
    "# set.clear()\n",
    "# in-place function, meaning the intergirty of the original is changed\n",
    "\n",
    "print(s1)\n",
    "s1.clear()\n",
    "print(s1)"
   ]
  },
  {
   "cell_type": "markdown",
   "metadata": {},
   "source": [
    "##### Frozenset <br>\n",
    "<p>Frozen sets are immutable objects that only support methods and operators that produce a result without affecting the frozen set or sets to which they are applied.</p><br><b>Unique & Immutable</b>"
   ]
  },
  {
   "cell_type": "code",
   "execution_count": 14,
   "metadata": {},
   "outputs": [
    {
     "name": "stdout",
     "output_type": "stream",
     "text": [
      "frozenset({1, 2, 3, 4, 5, 7})\n",
      "<class 'frozenset'>\n"
     ]
    }
   ],
   "source": [
    "# frozenset([])\n",
    "fs = frozenset([1,2,3,4,5,7,7,7,7,7])\n",
    "print(fs)\n",
    "print(type(fs))\n",
    "\n"
   ]
  },
  {
   "cell_type": "markdown",
   "metadata": {},
   "source": [
    "## Arrays"
   ]
  },
  {
   "cell_type": "markdown",
   "metadata": {},
   "source": [
    "In python we benefit from the dynamic array which means the block of memory will expand as needed for the given input to the array. In traditional arrays (depending on the type of operating system) we will usually store our inputs in 4 or 8 consecutive blocks of memory. Below is a diagram of how that looks under the hood:\n",
    "\n",
    "<img src=\"http://www.mathcs.emory.edu/~cheung/Courses/170/Syllabus/09/FIGS/array02x.gif\" style=\"height:250px; width:350px;\">"
   ]
  },
  {
   "cell_type": "markdown",
   "metadata": {},
   "source": [
    "## Which in python looks like this:"
   ]
  },
  {
   "cell_type": "code",
   "execution_count": 15,
   "metadata": {},
   "outputs": [
    {
     "name": "stdout",
     "output_type": "stream",
     "text": [
      "[23, 4, 6, 18, 5, 7]\n"
     ]
    }
   ],
   "source": [
    "array = [23, 4, 6, 18, 5, 7]\n",
    "print(array)"
   ]
  },
  {
   "cell_type": "markdown",
   "metadata": {},
   "source": [
    "### Let's take a look at some of the time and space analysis of arrays"
   ]
  },
  {
   "cell_type": "code",
   "execution_count": 16,
   "metadata": {},
   "outputs": [
    {
     "name": "stdout",
     "output_type": "stream",
     "text": [
      "6\n",
      "[23, 4, 6, 18, 5, 9999]\n"
     ]
    }
   ],
   "source": [
    "# indexing a list (n)\n",
    "indexing = array[2] #constant time and space analysis O(1)\n",
    "\n",
    "# searching through a list\n",
    "# Linear Time - O(n) and constant space O(1)\n",
    "for i in array:\n",
    "    if i == 6:\n",
    "        print(i)\n",
    "        \n",
    "# Copy a list\n",
    "# Linear time O(n) and linear space O(n)\n",
    "copy = array[:]\n",
    "\n",
    "# setting an index in a list\n",
    "# constant time and space O(1)\n",
    "array[5] = 9999\n",
    "print(array)"
   ]
  },
  {
   "cell_type": "markdown",
   "metadata": {},
   "source": [
    "## Stacks and Queues (Review)\n",
    "\n",
    "** Stacks ** as the name suggests is a data structure that allows for data to follow the Last In First Out priciple(LIFO). Think of a stack of pancakes for example. To get the first pancake you would  start with the top and go down.\n",
    "\n",
    "##### Searching through a stack will be Linear Time O(n) - Constant Space O(1)\n",
    "##### Selecting the last item will be done in Constant Time O(1) - Constant Space O(1)\n",
    "##### Adding to the stack should take Constant Time O(1) - Constant Space O(1)\n",
    "\n",
    "** Queues ** are similar but in this case follow the First In First Out principle(FIFO). Think of this as a line in a black friday sale. The first person camped out for the big screen tv is the first to get it.\n",
    "\n",
    "##### Searching through a queue will be Linear Time O(n) - Constant Space O(1)\n",
    "##### Selecting the first item will be done in Constant Time O(1) - Constant Space O(1)\n",
    "##### Adding to the queue should take Constant Time O(1) - Constant Space O(1)"
   ]
  },
  {
   "cell_type": "code",
   "execution_count": 19,
   "metadata": {},
   "outputs": [
    {
     "name": "stdout",
     "output_type": "stream",
     "text": [
      "[10, 20, 30]\n",
      "[10, 20]\n",
      "30\n",
      "['Ash', 'Brock', 'Misty']\n",
      "Ash\n",
      "['Brock', 'Misty']\n"
     ]
    }
   ],
   "source": [
    "# stack of pancakes, last in first out in your stack\n",
    "# queue, a line of people, first in first out\n",
    "\n",
    "stack = []\n",
    "\n",
    "stack.append(10)\n",
    "stack.append(20)\n",
    "stack.append(30)\n",
    "print(stack)\n",
    "\n",
    "# remove \n",
    "\n",
    "last_item = stack.pop()\n",
    "print(stack)\n",
    "print(last_item)\n",
    "\n",
    "# searching through a stack linear time - O(n)\n",
    "\n",
    "queue = []\n",
    "\n",
    "queue.append(\"Ash\")\n",
    "queue.append(\"Brock\")\n",
    "queue.append(\"Misty\")\n",
    "\n",
    "print(queue)\n",
    "first_person = queue.pop(0)\n",
    "print(first_person)\n",
    "print(queue)"
   ]
  },
  {
   "cell_type": "markdown",
   "metadata": {},
   "source": [
    "## Linked List (Data Structure)\n",
    "\n",
    "A linked list is created by using the node class. We create a Node object and create another class to use this node object. We pass the appropriate values thorugh the node object to point the to the next data elements.\n",
    "\n",
    "There are some advantages and disadvantages with this data structure. **Advantages** Linked Lists can save memory because they can be flexibile with memory management which saves memory. **Disadvantages** Finding or adding to the list requires traversing the entire list."
   ]
  },
  {
   "cell_type": "code",
   "execution_count": 25,
   "metadata": {},
   "outputs": [
    {
     "name": "stdout",
     "output_type": "stream",
     "text": [
      "1\n",
      "2\n",
      "3\n",
      "4\n"
     ]
    }
   ],
   "source": [
    "#simplest version of a linked list\n",
    "\n",
    "class LinkedListNode():\n",
    "    def __init__(self, value):\n",
    "        self.value = value\n",
    "        self.next = None\n",
    "    def traverse(self):\n",
    "        node = self\n",
    "        while node != None:\n",
    "            print(node.value)\n",
    "            node = node.next\n",
    "    \n",
    "    \n",
    "node1 = LinkedListNode(1)\n",
    "node2 = LinkedListNode(2)\n",
    "node3 = LinkedListNode(3)\n",
    "node4 = LinkedListNode(4)\n",
    "\n",
    "node1.next = node2\n",
    "node2.next = node3\n",
    "node3.next = node4\n",
    "\n",
    "#print(node1.next.next.next.value)\n",
    "\n",
    "node1.traverse()"
   ]
  },
  {
   "cell_type": "code",
   "execution_count": 26,
   "metadata": {},
   "outputs": [
    {
     "name": "stdout",
     "output_type": "stream",
     "text": [
      "Sunday\n",
      "Monday\n",
      "Tuesday\n",
      "Wednesday\n",
      "Thursday\n"
     ]
    }
   ],
   "source": [
    "class Node:\n",
    "    def __init__(self, value):\n",
    "        self.value = value\n",
    "        self.next = None\n",
    "\n",
    "class LinkedList:\n",
    "    def __init__(self):\n",
    "        self.head = None\n",
    "    \n",
    "    def prepend(self, new_value):\n",
    "        new_node = Node(new_value)\n",
    "        new_node.next = self.head\n",
    "        self.head = new_node\n",
    "    \n",
    "    def append(self, new_value):\n",
    "        new_node = Node(new_value)\n",
    "        #check if linked list is empty\n",
    "        if self.head == None:\n",
    "            self.head = new_node\n",
    "            return\n",
    "        \n",
    "        # if list is not empty, I need to traverse to the end\n",
    "        # add new_node to the end\n",
    "        \n",
    "        last = self.head\n",
    "        while last.next:\n",
    "            last = last.next\n",
    "            \n",
    "        last.next = new_node\n",
    "    \n",
    "    def insert_after(self, made_node, new_value):\n",
    "        # check if previous node exists\n",
    "        if made_node == None:\n",
    "            print(\"The given node is empty\")\n",
    "            return\n",
    "        # if not empty create a new node\n",
    "        new_node = Node(new_value)\n",
    "        \n",
    "        # update previous node's \"next\", space example, astronaut's cord can't get cut before a new one is attached\n",
    "        new_node.next = made_node.next\n",
    "        \n",
    "        # updated\n",
    "        made_node.next = new_node\n",
    "        \n",
    "    def traverse(self):\n",
    "        node = self.head\n",
    "        while node != None:\n",
    "            print(node.value)\n",
    "            node = node.next\n",
    "            \n",
    "            \n",
    "weekday_links = LinkedList()\n",
    "weekday_links.prepend(\"Monday\")\n",
    "weekday_links.append(\"Tuesday\")\n",
    "weekday_links.append(\"Thursday\")\n",
    "weekday_links.insert_after(weekday_links.head.next, \"Wednesday\")\n",
    "weekday_links.prepend(\"Sunday\")\n",
    "weekday_links.traverse()"
   ]
  },
  {
   "cell_type": "markdown",
   "metadata": {},
   "source": [
    "## Binary Search Trees"
   ]
  },
  {
   "cell_type": "code",
   "execution_count": 37,
   "metadata": {},
   "outputs": [
    {
     "name": "stdout",
     "output_type": "stream",
     "text": [
      "False\n",
      "False\n",
      "15\n",
      "15\n"
     ]
    }
   ],
   "source": [
    "# still have a value but instead of next you have a left and right\n",
    "# like digging in a mine\n",
    "\n",
    "class BST:\n",
    "    def __init__(self, value):\n",
    "        self.value = value\n",
    "        self.left = None\n",
    "        self.right = None\n",
    "        \n",
    "    def insert(self, new_value):\n",
    "        if new_value < self.value:\n",
    "            if self.left == None:\n",
    "                self.left == BST(new_value)\n",
    "            else:\n",
    "                self.left.insert(new_value)\n",
    "        else:\n",
    "            if self.right == None:\n",
    "                self.right == BST(new_value)\n",
    "            else:\n",
    "                self.right.insert(new_value)\n",
    "                \n",
    "        return\n",
    "    def contains(self, value):\n",
    "        if value < self.value:\n",
    "            if self.left == None:\n",
    "                return False\n",
    "            else:\n",
    "                return self.left.contains(value)\n",
    "        elif value > self.value:\n",
    "            if self.right == None:\n",
    "                return False\n",
    "            else:\n",
    "                return self.right.contains(value)\n",
    "        else:\n",
    "            return True\n",
    "    def get_min(self):\n",
    "        if self.left == None:\n",
    "            return self.value\n",
    "        else:\n",
    "            return self.left.get_min(value)\n",
    "    def get_max(self):\n",
    "        if self.right == None:\n",
    "            return self.value\n",
    "        else:\n",
    "            return self.right.get_max(value)\n",
    "    def remove(self, value, parent=None):\n",
    "        if value < self.value:\n",
    "            if self.left is not None:\n",
    "                self.left.remove(value, self)\n",
    "                \n",
    "        elif value > self.value:\n",
    "            if self.right is not None:\n",
    "                self.right.remove(value, self)\n",
    "                \n",
    "        else:\n",
    "            if self.left is not None and self.right is not None:\n",
    "                self.value = self.right.get_min() # logical math\n",
    "                self.right.remove(self.value, self)\n",
    "            elif parent is None:\n",
    "                if self.left is not None:\n",
    "                    self.value = self.left.value\n",
    "                    self.right = self.left.right\n",
    "                    self.left = self.left.left\n",
    "                elif self.right is not None:\n",
    "                    self.value = self.right.value\n",
    "                    self.right = self.right.right\n",
    "                    self.right = self.right.left\n",
    "                else:\n",
    "                    self.value = None\n",
    "                    \n",
    "            elif parent.left == self:\n",
    "                parent.left == self.left if self.left is not None else self.right\n",
    "            elif parent.right == self:\n",
    "                parent.right == self.left if self.left is not None else self.right\n",
    "                \n",
    "        return self\n",
    "    \n",
    "    \n",
    "    \n",
    "bst = BST(15)\n",
    "bst.insert(5)\n",
    "bst.insert(17)\n",
    "bst.insert(7)\n",
    "bst.insert(3)\n",
    "bst.insert(2)\n",
    "bst.insert(1)\n",
    "print(bst.contains(2))\n",
    "print(bst.contains(4))\n",
    "print(bst.get_min())\n",
    "print(bst.get_max())       \n",
    "                    \n",
    "        \n",
    "    "
   ]
  },
  {
   "cell_type": "markdown",
   "metadata": {},
   "source": [
    "# Homework"
   ]
  },
  {
   "cell_type": "markdown",
   "metadata": {},
   "source": [
    "#### Problem 1: Linked Lists\n",
    "\n",
    "Using the above examples as a guide, create your own interpretation of the a Linked List class. You can not use the code above exactly, but again it can be used as a guide. This problem requires you to think about how a linked list works and create one using your own logic.\n",
    "\n",
    "*Remember* A Linked List is a list of Nodes that point to the next node in the chain. The first Node starts out as Empty(None) and each node after points to the next.\n",
    "\n",
    "Your Linked List should have a traverse method and have the ability to add a new node"
   ]
  },
  {
   "cell_type": "code",
   "execution_count": null,
   "metadata": {},
   "outputs": [],
   "source": [
    "class Node:\n",
    "    def __init__(self, value):\n",
    "        self.value = value\n",
    "        self.next = None\n",
    "\n",
    "class LinkedList:\n",
    "    def __init__(self):\n",
    "        self.head = None\n",
    "    \n",
    "    def prepend(self, new_value):\n",
    "        new_node = Node(new_value)\n",
    "        new_node.next = self.head\n",
    "        self.head = new_node\n",
    "    \n",
    "    def append(self, new_value):\n",
    "        new_node = Node(new_value)\n",
    "        #check if linked list is empty\n",
    "        if self.head == None:\n",
    "            self.head = new_node\n",
    "            return\n",
    "        \n",
    "        # if list is not empty, I need to traverse to the end\n",
    "        # add new_node to the end\n",
    "        \n",
    "        last = self.head\n",
    "        while last.next:\n",
    "            last = last.next\n",
    "            \n",
    "        last.next = new_node\n",
    "    \n",
    "    def insert_after(self, made_node, new_value):\n",
    "        # check if previous node exists\n",
    "        if made_node == None:\n",
    "            print(\"The given node is empty\")\n",
    "            return\n",
    "        # if not empty create a new node\n",
    "        new_node = Node(new_value)\n",
    "        \n",
    "        # update previous node's \"next\", space example, astronaut's cord can't get cut before a new one is attached\n",
    "        new_node.next = made_node.next\n",
    "        \n",
    "        # updated\n",
    "        made_node.next = new_node\n",
    "        \n",
    "    def traverse(self):\n",
    "        node = self.head\n",
    "        while node != None:\n",
    "            print(node.value)\n",
    "            node = node.next"
   ]
  },
  {
   "cell_type": "markdown",
   "metadata": {},
   "source": [
    "#### Problem 2: Binary Search Tree\n",
    "\n",
    "Using the above examples as a guide, create your own interpretation of the a Binary Search Tree class. You can not use the code above exactly, but again it can be used as a guide. This problem requires you to think about how a Binary Search Tree works and create one using your own logic.\n",
    "\n",
    "*Remember* Binary Search Trees start with a head node and each node to the left of that will be smaller, each node to the right of it will be greater. The far left node should be the lowest number(if one exists) that is available. The far right node (if one exists) should be the greatest number"
   ]
  },
  {
   "cell_type": "code",
   "execution_count": null,
   "metadata": {},
   "outputs": [],
   "source": [
    "class BST:\n",
    "    def __init__(self, value):\n",
    "        self.value = value\n",
    "        self.left = None\n",
    "        self.right = None\n",
    "        \n",
    "    def insert(self, new_value):\n",
    "        if new_value < self.value:\n",
    "            if self.left == None:\n",
    "                self.left == BST(new_value)\n",
    "            else:\n",
    "                self.left.insert(new_value)\n",
    "        else:\n",
    "            if self.right == None:\n",
    "                self.right == BST(new_value)\n",
    "            else:\n",
    "                self.right.insert(new_value)\n",
    "                \n",
    "        return\n",
    "    def contains(self, value):\n",
    "        if value < self.value:\n",
    "            if self.left == None:\n",
    "                return False\n",
    "            else:\n",
    "                return self.left.contains(value)\n",
    "        elif value > self.value:\n",
    "            if self.right == None:\n",
    "                return False\n",
    "            else:\n",
    "                return self.right.contains(value)\n",
    "        else:\n",
    "            return True\n",
    "    def get_min(self):\n",
    "        if self.left == None:\n",
    "            return self.value\n",
    "        else:\n",
    "            return self.left.get_min(value)\n",
    "    def get_max(self):\n",
    "        if self.right == None:\n",
    "            return self.value\n",
    "        else:\n",
    "            return self.right.get_max(value)\n",
    "    def remove(self, value, parent=None):\n",
    "        if value < self.value:\n",
    "            if self.left is not None:\n",
    "                self.left.remove(value, self)\n",
    "                \n",
    "        elif value > self.value:\n",
    "            if self.right is not None:\n",
    "                self.right.remove(value, self)\n",
    "                \n",
    "        else:\n",
    "            if self.left is not None and self.right is not None:\n",
    "                self.value = self.right.get_min() # logical math\n",
    "                self.right.remove(self.value, self)\n",
    "            elif parent is None:\n",
    "                if self.left is not None:\n",
    "                    self.value = self.left.value\n",
    "                    self.right = self.left.right\n",
    "                    self.left = self.left.left\n",
    "                elif self.right is not None:\n",
    "                    self.value = self.right.value\n",
    "                    self.right = self.right.right\n",
    "                    self.right = self.right.left\n",
    "                else:\n",
    "                    self.value = None\n",
    "                    \n",
    "            elif parent.left == self:\n",
    "                parent.left == self.left if self.left is not None else self.right\n",
    "            elif parent.right == self:\n",
    "                parent.right == self.left if self.left is not None else self.right\n",
    "                \n",
    "        return self"
   ]
  }
 ],
 "metadata": {
  "kernelspec": {
   "display_name": "Python 3 (ipykernel)",
   "language": "python",
   "name": "python3"
  },
  "language_info": {
   "codemirror_mode": {
    "name": "ipython",
    "version": 3
   },
   "file_extension": ".py",
   "mimetype": "text/x-python",
   "name": "python",
   "nbconvert_exporter": "python",
   "pygments_lexer": "ipython3",
   "version": "3.9.7"
  }
 },
 "nbformat": 4,
 "nbformat_minor": 2
}
